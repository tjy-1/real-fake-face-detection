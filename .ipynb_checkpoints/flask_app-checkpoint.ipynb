{
 "cells": [
  {
   "cell_type": "code",
   "execution_count": 1,
   "id": "9c72b48c-6f42-48a9-a19f-fcdb13ca3faa",
   "metadata": {},
   "outputs": [
    {
     "name": "stderr",
     "output_type": "stream",
     "text": [
      "2025-02-14 18:08:23.925800: I tensorflow/core/platform/cpu_feature_guard.cc:210] This TensorFlow binary is optimized to use available CPU instructions in performance-critical operations.\n",
      "To enable the following instructions: AVX2 FMA, in other operations, rebuild TensorFlow with the appropriate compiler flags.\n",
      "WARNING:absl:Compiled the loaded model, but the compiled metrics have yet to be built. `model.compile_metrics` will be empty until you train or evaluate the model.\n"
     ]
    },
    {
     "name": "stdout",
     "output_type": "stream",
     "text": [
      " * Serving Flask app '__main__'\n",
      " * Debug mode: on\n"
     ]
    },
    {
     "name": "stderr",
     "output_type": "stream",
     "text": [
      "INFO:werkzeug:\u001b[31m\u001b[1mWARNING: This is a development server. Do not use it in a production deployment. Use a production WSGI server instead.\u001b[0m\n",
      " * Running on all addresses (0.0.0.0)\n",
      " * Running on http://127.0.0.1:5002\n",
      " * Running on http://192.168.100.9:5002\n",
      "INFO:werkzeug:\u001b[33mPress CTRL+C to quit\u001b[0m\n",
      "INFO:werkzeug:192.168.100.9 - - [14/Feb/2025 18:08:33] \"GET / HTTP/1.1\" 200 -\n"
     ]
    },
    {
     "name": "stdout",
     "output_type": "stream",
     "text": [
      "\u001b[1m1/1\u001b[0m \u001b[32m━━━━━━━━━━━━━━━━━━━━\u001b[0m\u001b[37m\u001b[0m \u001b[1m0s\u001b[0m 106ms/step\n"
     ]
    },
    {
     "name": "stderr",
     "output_type": "stream",
     "text": [
      "INFO:werkzeug:192.168.100.9 - - [14/Feb/2025 18:08:37] \"POST /predict HTTP/1.1\" 200 -\n"
     ]
    },
    {
     "name": "stdout",
     "output_type": "stream",
     "text": [
      "\u001b[1m1/1\u001b[0m \u001b[32m━━━━━━━━━━━━━━━━━━━━\u001b[0m\u001b[37m\u001b[0m \u001b[1m0s\u001b[0m 73ms/step\n"
     ]
    },
    {
     "name": "stderr",
     "output_type": "stream",
     "text": [
      "INFO:werkzeug:192.168.100.9 - - [14/Feb/2025 18:12:37] \"POST /predict HTTP/1.1\" 200 -\n"
     ]
    },
    {
     "name": "stdout",
     "output_type": "stream",
     "text": [
      "\u001b[1m1/1\u001b[0m \u001b[32m━━━━━━━━━━━━━━━━━━━━\u001b[0m\u001b[37m\u001b[0m \u001b[1m0s\u001b[0m 38ms/step\n"
     ]
    },
    {
     "name": "stderr",
     "output_type": "stream",
     "text": [
      "INFO:werkzeug:192.168.100.9 - - [14/Feb/2025 18:12:48] \"POST /predict HTTP/1.1\" 200 -\n"
     ]
    },
    {
     "name": "stdout",
     "output_type": "stream",
     "text": [
      "\u001b[1m1/1\u001b[0m \u001b[32m━━━━━━━━━━━━━━━━━━━━\u001b[0m\u001b[37m\u001b[0m \u001b[1m0s\u001b[0m 54ms/step\n"
     ]
    },
    {
     "name": "stderr",
     "output_type": "stream",
     "text": [
      "INFO:werkzeug:192.168.100.9 - - [14/Feb/2025 18:14:56] \"POST /predict HTTP/1.1\" 200 -\n"
     ]
    },
    {
     "name": "stdout",
     "output_type": "stream",
     "text": [
      "\u001b[1m1/1\u001b[0m \u001b[32m━━━━━━━━━━━━━━━━━━━━\u001b[0m\u001b[37m\u001b[0m \u001b[1m0s\u001b[0m 34ms/step\n"
     ]
    },
    {
     "name": "stderr",
     "output_type": "stream",
     "text": [
      "INFO:werkzeug:192.168.100.9 - - [14/Feb/2025 18:15:01] \"POST /predict HTTP/1.1\" 200 -\n"
     ]
    },
    {
     "name": "stdout",
     "output_type": "stream",
     "text": [
      "\u001b[1m1/1\u001b[0m \u001b[32m━━━━━━━━━━━━━━━━━━━━\u001b[0m\u001b[37m\u001b[0m \u001b[1m0s\u001b[0m 34ms/step\n"
     ]
    },
    {
     "name": "stderr",
     "output_type": "stream",
     "text": [
      "INFO:werkzeug:192.168.100.9 - - [14/Feb/2025 18:15:07] \"POST /predict HTTP/1.1\" 200 -\n"
     ]
    },
    {
     "name": "stdout",
     "output_type": "stream",
     "text": [
      "\u001b[1m1/1\u001b[0m \u001b[32m━━━━━━━━━━━━━━━━━━━━\u001b[0m\u001b[37m\u001b[0m \u001b[1m0s\u001b[0m 34ms/step\n"
     ]
    },
    {
     "name": "stderr",
     "output_type": "stream",
     "text": [
      "INFO:werkzeug:192.168.100.9 - - [14/Feb/2025 18:15:16] \"POST /predict HTTP/1.1\" 200 -\n"
     ]
    },
    {
     "name": "stdout",
     "output_type": "stream",
     "text": [
      "\u001b[1m1/1\u001b[0m \u001b[32m━━━━━━━━━━━━━━━━━━━━\u001b[0m\u001b[37m\u001b[0m \u001b[1m0s\u001b[0m 35ms/step\n"
     ]
    },
    {
     "name": "stderr",
     "output_type": "stream",
     "text": [
      "INFO:werkzeug:192.168.100.9 - - [14/Feb/2025 18:15:21] \"POST /predict HTTP/1.1\" 200 -\n"
     ]
    }
   ],
   "source": [
    "from flask import Flask, request, jsonify, render_template_string\n",
    "import tensorflow as tf\n",
    "import numpy as np\n",
    "from PIL import Image\n",
    "import os\n",
    "from datetime import datetime\n",
    "import threading\n",
    "\n",
    "app = Flask(__name__)\n",
    "\n",
    "# Load the trained model\n",
    "model = tf.keras.models.load_model(\"fake_image_detector.h5\")\n",
    "model.compile(loss='binary_crossentropy', optimizer='adam', metrics=['accuracy'])\n",
    "\n",
    "# Directory to save uploaded images\n",
    "UPLOAD_FOLDER = 'uploaded_images'\n",
    "os.makedirs(UPLOAD_FOLDER, exist_ok=True)\n",
    "\n",
    "# History storage\n",
    "prediction_history = []\n",
    "\n",
    "# Image preprocessing function\n",
    "def preprocess_image(image_path):\n",
    "    img = Image.open(image_path).convert(\"RGB\").resize((128, 128))  # Force RGB\n",
    "    img = np.array(img) / 255.0  # Normalize\n",
    "    img = np.expand_dims(img, axis=0)  # Add batch dimension\n",
    "    return img\n",
    "\n",
    "\n",
    "# HTML template as a string\n",
    "index_html = '''\n",
    "<!DOCTYPE html>\n",
    "<html lang=\"en\">\n",
    "<head>\n",
    "    <meta charset=\"UTF-8\">\n",
    "    <meta name=\"viewport\" content=\"width=device-width, initial-scale=1.0\">\n",
    "    <title>Fake Image Detector</title>\n",
    "    <style>\n",
    "        body {\n",
    "            font-family: Arial, sans-serif;\n",
    "            margin: 0;\n",
    "            padding: 0;\n",
    "            background-color: #f4f4f4;\n",
    "        }\n",
    "        header {\n",
    "            background-color: #4CAF50;\n",
    "            padding: 10px 20px;\n",
    "            color: white;\n",
    "            text-align: center;\n",
    "        }\n",
    "        .container {\n",
    "            width: 80%;\n",
    "            margin: auto;\n",
    "            padding: 20px;\n",
    "        }\n",
    "        .upload-form {\n",
    "            background-color: #fff;\n",
    "            padding: 20px;\n",
    "            border-radius: 8px;\n",
    "            box-shadow: 0 4px 8px rgba(0, 0, 0, 0.1);\n",
    "        }\n",
    "        .upload-form input[type=\"file\"] {\n",
    "            margin-bottom: 10px;\n",
    "        }\n",
    "        .prediction-result {\n",
    "            background-color: #fff;\n",
    "            padding: 20px;\n",
    "            margin-top: 20px;\n",
    "            border-radius: 8px;\n",
    "            box-shadow: 0 4px 8px rgba(0, 0, 0, 0.1);\n",
    "        }\n",
    "        .history {\n",
    "            background-color: #fff;\n",
    "            padding: 20px;\n",
    "            margin-top: 30px;\n",
    "            border-radius: 8px;\n",
    "            box-shadow: 0 4px 8px rgba(0, 0, 0, 0.1);\n",
    "        }\n",
    "        table {\n",
    "            width: 100%;\n",
    "            border-collapse: collapse;\n",
    "        }\n",
    "        table, th, td {\n",
    "            border: 1px solid #ddd;\n",
    "        }\n",
    "        th, td {\n",
    "            padding: 10px;\n",
    "            text-align: left;\n",
    "        }\n",
    "    </style>\n",
    "</head>\n",
    "<body>\n",
    "    <header>\n",
    "        <h1>Fake Image Detector</h1>\n",
    "    </header>\n",
    "    <div class=\"container\">\n",
    "        <div class=\"upload-form\">\n",
    "            <h2>Upload an image to detect if it's real or fake</h2>\n",
    "            <form action=\"/predict\" method=\"post\" enctype=\"multipart/form-data\">\n",
    "                <input type=\"file\" name=\"file\" accept=\"image/*\" required>\n",
    "                <button type=\"submit\">Upload & Predict</button>\n",
    "            </form>\n",
    "        </div>\n",
    "\n",
    "        {% if prediction %}\n",
    "        <div class=\"prediction-result\">\n",
    "            <h2>Prediction Result</h2>\n",
    "            <p><strong>Prediction:</strong> {{ prediction }}</p>\n",
    "            <p><strong>Confidence:</strong> {{ confidence }}</p>\n",
    "        </div>\n",
    "        {% endif %}\n",
    "\n",
    "        {% if history %}\n",
    "        <div class=\"history\">\n",
    "            <h2>Prediction History</h2>\n",
    "            <table>\n",
    "                <thead>\n",
    "                    <tr>\n",
    "                        <th>Image</th>\n",
    "                        <th>Prediction</th>\n",
    "                        <th>Confidence</th>\n",
    "                        <th>Timestamp</th>\n",
    "                    </tr>\n",
    "                </thead>\n",
    "                <tbody>\n",
    "                    {% for entry in history %}\n",
    "                    <tr>\n",
    "                        <td>{{ entry.image }}</td>\n",
    "                        <td>{{ entry.prediction }}</td>\n",
    "                        <td>{{ entry.confidence }}</td>\n",
    "                        <td>{{ entry.timestamp }}</td>\n",
    "                    </tr>\n",
    "                    {% endfor %}\n",
    "                </tbody>\n",
    "            </table>\n",
    "        </div>\n",
    "        {% endif %}\n",
    "    </div>\n",
    "</body>\n",
    "</html>\n",
    "'''\n",
    "\n",
    "@app.route('/')\n",
    "def home():\n",
    "    return render_template_string(index_html, prediction=None, history=prediction_history)\n",
    "\n",
    "@app.route('/predict', methods=['POST'])\n",
    "def predict():\n",
    "    if 'file' not in request.files:\n",
    "        return jsonify({\"error\": \"No file uploaded\"}), 400\n",
    "\n",
    "    file = request.files['file']\n",
    "    image_path = os.path.join(UPLOAD_FOLDER, file.filename)\n",
    "    file.save(image_path)\n",
    "\n",
    "    img = preprocess_image(image_path)\n",
    "    prediction = model.predict(img)[0][0]\n",
    "    \n",
    "    result = \"Fake\" if prediction < 0.5 else \"Real\"\n",
    "    confidence = float(prediction)\n",
    "\n",
    "    # Store the prediction in the history\n",
    "    prediction_history.append({\n",
    "        \"image\": file.filename,\n",
    "        \"prediction\": result,\n",
    "        \"confidence\": confidence,\n",
    "        \"timestamp\": datetime.now().strftime(\"%Y-%m-%d %H:%M:%S\")\n",
    "    })\n",
    "\n",
    "    # Pass the result to be rendered on the same page\n",
    "    return render_template_string(index_html, prediction=result, confidence=confidence, history=prediction_history)\n",
    "\n",
    "# Run Flask app in a separate thread to prevent blocking the notebook\n",
    "def run_flask():\n",
    "    app.run(host='0.0.0.0', port=5002, debug=True, use_reloader=False)  # use_reloader=False to prevent it from running twice in Jupyter\n",
    "\n",
    "# Start Flask app in background thread\n",
    "thread = threading.Thread(target=run_flask)\n",
    "thread.start()\n"
   ]
  },
  {
   "cell_type": "code",
   "execution_count": null,
   "id": "20127fac-0503-4c5e-bcf2-9cac525c1a06",
   "metadata": {},
   "outputs": [],
   "source": []
  }
 ],
 "metadata": {
  "kernelspec": {
   "display_name": "Python 3 (ipykernel)",
   "language": "python",
   "name": "python3"
  },
  "language_info": {
   "codemirror_mode": {
    "name": "ipython",
    "version": 3
   },
   "file_extension": ".py",
   "mimetype": "text/x-python",
   "name": "python",
   "nbconvert_exporter": "python",
   "pygments_lexer": "ipython3",
   "version": "3.9.21"
  }
 },
 "nbformat": 4,
 "nbformat_minor": 5
}
